{
  "nbformat": 4,
  "nbformat_minor": 0,
  "metadata": {
    "colab": {
      "provenance": [],
      "authorship_tag": "ABX9TyMWFtLf0zgRHMfTNabpu2LP",
      "include_colab_link": true
    },
    "kernelspec": {
      "name": "python3",
      "display_name": "Python 3"
    },
    "language_info": {
      "name": "python"
    }
  },
  "cells": [
    {
      "cell_type": "markdown",
      "metadata": {
        "id": "view-in-github",
        "colab_type": "text"
      },
      "source": [
        "<a href=\"https://colab.research.google.com/github/MYinthewood/CNN_Notebooks/blob/main/resize_images_INTER_AREA.ipynb\" target=\"_parent\"><img src=\"https://colab.research.google.com/assets/colab-badge.svg\" alt=\"Open In Colab\"/></a>"
      ]
    },
    {
      "cell_type": "code",
      "execution_count": null,
      "metadata": {
        "colab": {
          "base_uri": "https://localhost:8080/"
        },
        "id": "h90l1AsBRIYw",
        "outputId": "efa2d6b7-2cf6-4acf-8223-5af15b8ecb30"
      },
      "outputs": [
        {
          "output_type": "stream",
          "name": "stdout",
          "text": [
            "Drive already mounted at /content/drive; to attempt to forcibly remount, call drive.mount(\"/content/drive\", force_remount=True).\n"
          ]
        }
      ],
      "source": [
        "from google.colab import drive\n",
        "drive.mount('/content/drive')"
      ]
    },
    {
      "cell_type": "code",
      "source": [
        "import os\n",
        "os.listdir('/content/drive/MyDrive/Colab Notebooks/cnn/anomaly_detection_hazelnut/train/')"
      ],
      "metadata": {
        "colab": {
          "base_uri": "https://localhost:8080/"
        },
        "id": "m9oiQCwKSKKY",
        "outputId": "b4ec73be-a42d-4929-fca2-c925b665c742"
      },
      "execution_count": 45,
      "outputs": [
        {
          "output_type": "execute_result",
          "data": {
            "text/plain": [
              "['good']"
            ]
          },
          "metadata": {},
          "execution_count": 45
        }
      ]
    },
    {
      "cell_type": "code",
      "source": [
        "list = ['good', 'crack', 'cut', 'hole', 'print']"
      ],
      "metadata": {
        "id": "zSurXrTLSsrh"
      },
      "execution_count": null,
      "outputs": []
    },
    {
      "cell_type": "code",
      "source": [
        "import os\n",
        "import cv2\n",
        "from tqdm import tqdm"
      ],
      "metadata": {
        "id": "0cpKISRtS6J3"
      },
      "execution_count": null,
      "outputs": []
    },
    {
      "cell_type": "code",
      "source": [
        "def batch_resize_images_and_masks(input_images_dir,\n",
        "                                   output_images_dir,\n",
        "                                   target_size=(512, 512)):\n",
        "\n",
        "    os.makedirs(output_images_dir, exist_ok=True)\n",
        "\n",
        "    image_filenames = sorted(os.listdir(input_images_dir))\n",
        "\n",
        "    for img_name in tqdm(image_filenames,\n",
        "                         total=len(image_filenames),\n",
        "                         desc='Resizing images'):\n",
        "\n",
        "        # Read image and mask\n",
        "        img_path = os.path.join(input_images_dir, img_name)\n",
        "\n",
        "        image = cv2.imread(img_path, cv2.IMREAD_GRAYSCALE)\n",
        "\n",
        "        # Resize image\n",
        "        image_resized = cv2.resize(image, target_size, interpolation=cv2.INTER_AREA)\n",
        "        # INTER_AREA interpolation is best for shrinking images (smooth results).\n",
        "\n",
        "        # Save resized versions\n",
        "        cv2.imwrite(os.path.join(output_images_dir, img_name), image_resized)\n",
        "\n",
        "    print('\\n✅ All images and masks resized and saved!')"
      ],
      "metadata": {
        "id": "l-I2YUX5TE8b"
      },
      "execution_count": null,
      "outputs": []
    },
    {
      "cell_type": "code",
      "source": [
        "input_images_dir = '/content/drive/MyDrive/Colab Notebooks/cnn/anomaly_detection_hazelnut/train/good'\n",
        "output_images_dir = '/content/drive/MyDrive/Colab Notebooks/cnn/anomaly_detection_hazelnut/train/good_512'"
      ],
      "metadata": {
        "id": "0-1m6ZosUJKT"
      },
      "execution_count": 46,
      "outputs": []
    },
    {
      "cell_type": "code",
      "source": [
        "# Usage\n",
        "batch_resize_images_and_masks(\n",
        "    input_images_dir=input_images_dir,\n",
        "    output_images_dir=output_images_dir,\n",
        "    target_size=(512, 512)\n",
        ")"
      ],
      "metadata": {
        "colab": {
          "base_uri": "https://localhost:8080/"
        },
        "id": "RDi8QjY-Tw4Z",
        "outputId": "74a243a2-2974-4eb1-e9ee-ffc65317df2d"
      },
      "execution_count": 47,
      "outputs": [
        {
          "output_type": "stream",
          "name": "stderr",
          "text": [
            "Resizing images: 100%|██████████| 391/391 [00:49<00:00,  7.94it/s]"
          ]
        },
        {
          "output_type": "stream",
          "name": "stdout",
          "text": [
            "\n",
            "✅ All images and masks resized and saved!\n"
          ]
        },
        {
          "output_type": "stream",
          "name": "stderr",
          "text": [
            "\n"
          ]
        }
      ]
    },
    {
      "cell_type": "code",
      "source": [],
      "metadata": {
        "id": "EjqFKoCXUL6X"
      },
      "execution_count": null,
      "outputs": []
    }
  ]
}
